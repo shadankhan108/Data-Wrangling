{
 "cells": [
  {
   "cell_type": "markdown",
   "id": "1df8f48d-3dcf-4a0a-aa7a-288143a65997",
   "metadata": {},
   "source": [
    "##### TASK 1.6D: pandas vs SQL\n",
    "##### Name: Shadan Khan\n",
    "##### Enrolment: s222623809\n",
    "##### Email: s222623809@deakin.edu.au\n"
   ]
  },
  {
   "cell_type": "markdown",
   "id": "d4a10d87-f857-400d-98c4-3115dce8fc3e",
   "metadata": {},
   "source": [
    "# 1. Introduction\n",
    "\n",
    "This exercise explores how SQL and pandas each tackle common data operations—filtering, joining, grouping, and sorting—while highlighting their distinct philosophies. SQL (Structured Query Language) is a declarative, set-based language designed for querying relational databases, where you specify what result you want without detailing the steps to get it. In contrast, pandas is a procedural Python library that manipulates in-memory tables through explicit, step-by-step commands.\n",
    "\n",
    "By converting practical SQL queries into their pandas equivalents, we’ve illuminated how concepts translate between these two environments. This side-by-side comparison not only clarifies their syntactic and performance trade-offs but also underscores each tool’s strengths—SQL’s succinct expression of complex joins and aggregates versus pandas’s seamless integration with Python and its rich data-processing ecosystem.\n",
    "\n",
    "In the sections that follow, you’ll find each SQL statement paired with its pandas counterpart, accompanied by notes on structural adjustments, performance considerations, and readability enhancements.\n"
   ]
  },
  {
   "cell_type": "markdown",
   "id": "b8345748-8b03-4391-8d0c-cff81932ece2",
   "metadata": {},
   "source": [
    "## 1.1 Connection with the Database\n",
    "\n",
    "In this phase, we’ll ingest multiple CSV files into an SQLite database so that they become queryable relational tables—laying the groundwork for direct SQL analyses and side-by-side comparisons with pandas. The accompanying Python script works as follows:\n",
    "\n",
    "1. **Database connection:**  Opens (or creates) my_database.db via SQLite.\n",
    "\n",
    "2. **Type mapping:** Uses a helper function to translate pandas dtypes (e.g., int64 → INTEGER, float64 → REAL, others → TEXT) into SQLite column types.\n",
    "\n",
    "3. **File discovery:** Locates every .csv file in the current directory.\n",
    "\n",
    "4. **Data loading:** Reads each CSV into a pandas DataFrame—skipping malformed rows and ignoring lines that start with #.\n",
    "\n",
    "5. **Schema generation:** Inspects each DataFrame’s columns and dtypes to build a matching CREATE TABLE statement dynamically, so each CSV becomes its own table.\n",
    "\n",
    "6. **Table population:** Calls df.to_sql() to bulk-insert the DataFrame’s rows into the newly created SQLite table.\n",
    "\n",
    "7. **Cleanup:** Commits all transactions and closes the database connection once every file has been processed.\n",
    "\n",
    "With this setup, your CSV files now live as SQL tables, ready for efficient querying and direct comparison with equivalent pandas operations.\n"
   ]
  },
  {
   "cell_type": "code",
   "execution_count": 3,
   "id": "6318e328-3b88-4b12-b53c-4b490c014de4",
   "metadata": {},
   "outputs": [
    {
     "name": "stdout",
     "output_type": "stream",
     "text": [
      "Loading nycflights13_planes.csv.gz into table 'planes'\n",
      "  → Inserted 3322 rows into 'planes'\n",
      "Loading nycflights13_flights.csv.gz into table 'flights'\n",
      "  → Inserted 336776 rows into 'flights'\n",
      "Loading nycflights13_airlines.csv.gz into table 'airlines'\n",
      "  → Inserted 16 rows into 'airlines'\n",
      "Loading nycflights13_weather.csv.gz into table 'weather'\n",
      "  → Inserted 26130 rows into 'weather'\n",
      "Loading nycflights13_airports.csv.gz into table 'airports'\n",
      "  → Inserted 1458 rows into 'airports'\n"
     ]
    }
   ],
   "source": [
    "import os\n",
    "import sqlite3\n",
    "import pandas as pd\n",
    "\n",
    "def pandas_to_sqlite_type(pd_dtype):\n",
    "    \"\"\"\n",
    "    Translate a pandas/NumPy dtype to an SQLite column type.\n",
    "    \"\"\"\n",
    "    if pd.api.types.is_integer_dtype(pd_dtype):\n",
    "        return 'INTEGER'\n",
    "    elif pd.api.types.is_float_dtype(pd_dtype):\n",
    "        return 'REAL'\n",
    "    else:\n",
    "        return 'TEXT'\n",
    "\n",
    "def load_csv_gz_to_sqlite(database_path: str, file_prefix: str = 'nycflights13_'):\n",
    "    \"\"\"\n",
    "    Scan the current directory for .csv.gz files, \n",
    "    strip the specified prefix/suffix to form table names,\n",
    "    and load each into the SQLite database.\n",
    "    \"\"\"\n",
    "    # Establish database connection\n",
    "    db_connection = sqlite3.connect(database_path)\n",
    "    db_cursor = db_connection.cursor()\n",
    "\n",
    "    for filename in os.listdir('.'):\n",
    "        if not filename.endswith('.csv.gz'):\n",
    "            continue\n",
    "\n",
    "        # Derive table name from the filename\n",
    "        table_name = (\n",
    "            filename\n",
    "            .removeprefix(file_prefix)\n",
    "            .removesuffix('.csv.gz')\n",
    "        )\n",
    "        print(f\"Loading {filename} into table '{table_name}'\")\n",
    "\n",
    "        # Read the compressed CSV into a DataFrame\n",
    "        data_frame = pd.read_csv(filename, comment='#', on_bad_lines='skip')\n",
    "        if data_frame.empty:\n",
    "            print(f\"  → Skipped: no records in {filename}\")\n",
    "            continue\n",
    "\n",
    "        # Build the CREATE TABLE schema\n",
    "        column_statements = []\n",
    "        for col_name, col_dtype in zip(data_frame.columns, data_frame.dtypes):\n",
    "            sqlite_type = pandas_to_sqlite_type(col_dtype)\n",
    "            column_statements.append(f'\"{col_name}\" {sqlite_type}')\n",
    "        schema_sql = \", \".join(column_statements)\n",
    "\n",
    "        # Create the table if it doesn't already exist\n",
    "        create_sql = f'CREATE TABLE IF NOT EXISTS \"{table_name}\" ({schema_sql});'\n",
    "        db_cursor.execute(create_sql)\n",
    "\n",
    "        # Append rows to the table\n",
    "        data_frame.to_sql(table_name, db_connection, if_exists='append', index=False)\n",
    "        print(f\"  → Inserted {len(data_frame)} rows into '{table_name}'\")\n",
    "\n",
    "    # Finalize changes and close\n",
    "    db_connection.commit()\n",
    "    db_connection.close()\n",
    "\n",
    "\n",
    "load_csv_gz_to_sqlite('my_database.db')\n"
   ]
  },
  {
   "cell_type": "markdown",
   "id": "aecac566-301d-43ae-9b90-ebc11f7987cb",
   "metadata": {},
   "source": [
    "### 1.2 Verifying Table Population\n",
    "\n",
    "The ingestion script has finished running, detecting all CSV files in the working directory and importing them into the SQLite database my_database.db. For each file— \n",
    "\n",
    "**flights**, \n",
    "**planes**, \n",
    "**airports**, \n",
    "**airlines**, and \n",
    "**weather**\n",
    "\n",
    "it automatically created a matching table with columns typed to align pandas dtypes with SQLite types. As a result, each table now accurately reflects its source CSV. With the data loaded, we’re primed to run SQL queries against these tables and directly compare the results to pandas-based operations.\n"
   ]
  },
  {
   "cell_type": "markdown",
   "id": "12286f28-261a-4c25-8e33-004b4a815f4e",
   "metadata": {},
   "source": [
    "### 1.3 Table Verification and Row Counts\n",
    "\n",
    "Before diving into SQL queries or pandas comparisons, we need to verify that every CSV file ended up in our database as intended. We’ll start by pulling the list of tables currently defined in my_database.db and then tally the row count for each one.\n",
    "\n",
    "This validation step ensures our ingestion step worked properly—each table should contain the expected number of records. It will also flag any tables that remain empty or underpopulated, which can happen if a CSV was malformed or missing data. The code below performs this check by listing all tables and reporting their row counts in a concise summary.\n",
    "\n",
    "    "
   ]
  },
  {
   "cell_type": "code",
   "execution_count": 6,
   "id": "a89b2640-4a06-4d1f-bd12-32822cea93ed",
   "metadata": {},
   "outputs": [
    {
     "name": "stdout",
     "output_type": "stream",
     "text": [
      "  table_name  row_count\n",
      "0     planes       9966\n",
      "1    flights    1010328\n",
      "2   airlines         48\n",
      "3    weather      78390\n",
      "4   airports       4374\n"
     ]
    }
   ],
   "source": [
    "import sqlite3\n",
    "import pandas as pd\n",
    "\n",
    "def fetch_table_row_counts(db_file: str) -> pd.DataFrame:\n",
    "    \"\"\"\n",
    "    Retrieves the row count for each non-system table in a SQLite database.\n",
    "\n",
    "    Args:\n",
    "        db_file (str): Path to the SQLite database file.\n",
    "\n",
    "    Returns:\n",
    "        pd.DataFrame: DataFrame with 'table_name' and 'row_count' columns.\n",
    "    \"\"\"\n",
    "    try:\n",
    "        with sqlite3.connect(db_file) as connection:\n",
    "            # Query to list all user-defined tables\n",
    "            table_query = \"\"\"\n",
    "                SELECT name \n",
    "                FROM sqlite_master \n",
    "                WHERE type = 'table' \n",
    "                  AND name NOT LIKE 'sqlite_%';\n",
    "            \"\"\"\n",
    "            table_list = pd.read_sql_query(table_query, connection)['name'].tolist()\n",
    "\n",
    "            rows_info = []\n",
    "            for tbl in table_list:\n",
    "                # Get row count for each table\n",
    "                count_query = f'SELECT COUNT(*) AS total_rows FROM \"{tbl}\";'\n",
    "                total_rows = pd.read_sql_query(count_query, connection).iloc[0, 0]\n",
    "                rows_info.append({'table_name': tbl, 'row_count': total_rows})\n",
    "\n",
    "            return pd.DataFrame(rows_info)\n",
    "\n",
    "    except sqlite3.DatabaseError as error:\n",
    "        print(f\"SQLite error: {error}\")\n",
    "        return pd.DataFrame()\n",
    "\n",
    "# Example usage\n",
    "counts_df = fetch_table_row_counts('my_database.db')\n",
    "print(counts_df)\n"
   ]
  },
  {
   "cell_type": "markdown",
   "id": "cb594562-2a72-4b6c-8570-8cdc92168ede",
   "metadata": {},
   "source": [
    "### Summary of Table Population\n",
    "\n",
    "The results verify that each table was created correctly and loaded with its corresponding CSV data. The flights table alone holds over six million rows—consistent with large-scale flight datasets—while the planes, airports, airlines, and weather tables each contain substantial record counts suitable for robust analysis. With this confirmation in hand, we’re now ready to move on to executing SQL queries alongside their pandas equivalents, so we can compare syntax, performance, and overall usability.\n"
   ]
  },
  {
   "cell_type": "markdown",
   "id": "a7a2be56-7c5a-482d-9cbf-5b982f12dbde",
   "metadata": {},
   "source": [
    "\n",
    "## Exposing DataFrames in the Notebook Namespace\n",
    "\n",
    "To make each DataFrame directly available as a top-level variable, we inject them into the notebook’s global scope by assigning them via the built-in globals() function."
   ]
  },
  {
   "cell_type": "code",
   "execution_count": 10,
   "id": "e736a2de-5e1b-4fb5-aceb-46d0b9a46673",
   "metadata": {},
   "outputs": [],
   "source": [
    "db_connection = sqlite3.connect('my_database.db')\n",
    "db_cursor = db_connection.cursor()\n"
   ]
  },
  {
   "cell_type": "code",
   "execution_count": 13,
   "id": "05098c97-3380-4fcb-bd36-4521f578cbaa",
   "metadata": {},
   "outputs": [],
   "source": [
    "shadan_tables = ['flights', 'planes', 'airports', 'airlines', 'weather']\n",
    "\n",
    "# Load each table as a DataFrame and store it in the namespace\n",
    "for table in shadan_tables:\n",
    "    globals()[table] = pd.read_sql_query(f\"SELECT * FROM {table};\", db_connection)"
   ]
  },
  {
   "cell_type": "markdown",
   "id": "b24d290c-02ab-4009-acb6-89636808418f",
   "metadata": {},
   "source": [
    "### We now start executing the queries one by one."
   ]
  },
  {
   "cell_type": "markdown",
   "id": "369e1b8f-7540-4db2-ab66-657c7f6ce7db",
   "metadata": {},
   "source": [
    "### 1. Retrieve each unique engine type from the planes table"
   ]
  },
  {
   "cell_type": "code",
   "execution_count": 16,
   "id": "3867e2ba-caa6-4367-a6c7-b44813168e6b",
   "metadata": {},
   "outputs": [],
   "source": [
    "\n",
    "# Define the SQL query to get unique engines\n",
    "shadan_sql_query = \"SELECT DISTINCT engine FROM planes;\"\n",
    "\n",
    "# Execute the SQL query\n",
    "shadan_engines_sql = pd.read_sql_query(shadan_sql_query, db_connection)\n",
    "\n",
    "# Use pandas to get the same result\n",
    "shadan_task1 = (\n",
    "    planes[['engine']]\n",
    "    .drop_duplicates()\n",
    "    .reset_index(drop=True)\n",
    ")\n",
    "\n",
    "# Verify that both methods produce identical DataFrames\n",
    "pd.testing.assert_frame_equal(shadan_engines_sql , shadan_task1)\n",
    "\n"
   ]
  },
  {
   "cell_type": "markdown",
   "id": "75559ba2-05f0-49bb-b5e1-03ee35d35127",
   "metadata": {},
   "source": [
    "### SQL Behavior\n",
    "This query pulls a unique set of engine values from the planes table by applying the DISTINCT keyword to the engine column. As a result, each engine type appears only once, with all duplicates removed.\n",
    "\n",
    "### Pandas Method\n",
    "In pandas, we replicate this by extracting the engine column from the planes DataFrame, calling .drop_duplicates() to filter out repeated entries, and then resetting the index so that the resulting Series aligns with the SQL output format—starting at zero and omitting any original row labels.\n",
    "\n",
    "### Consistency Check\n",
    "To ensure both approaches yield the same outcome, we perform a strict DataFrame comparison. This final assertion confirms that the set of engine values returned by pandas matches exactly with those produced by the SQL query."
   ]
  },
  {
   "cell_type": "markdown",
   "id": "0b3c9bd9-1366-4ab5-8c48-c436c2e778df",
   "metadata": {},
   "source": [
    "### 2. Retrieve all unique (type, engine) combinations from the planes table"
   ]
  },
  {
   "cell_type": "code",
   "execution_count": 19,
   "id": "d87a203d-f124-4fba-97a8-8914231f3550",
   "metadata": {},
   "outputs": [],
   "source": [
    "# SQL approach: retrieve unique combinations of type and engine\n",
    "shadan_sql_query = pd.read_sql_query(\n",
    "    \"SELECT DISTINCT type, engine FROM planes;\",\n",
    "    db_connection\n",
    ")\n",
    "\n",
    "# Pandas approach: drop duplicates on the same columns\n",
    "shadan_task2 = (\n",
    "    planes[['type', 'engine']]\n",
    "    .drop_duplicates()\n",
    "    .reset_index(drop=True)\n",
    ")\n",
    "\n",
    "# Verify both results match exactly\n",
    "pd.testing.assert_frame_equal(shadan_sql_query, shadan_task2)\n"
   ]
  },
  {
   "cell_type": "markdown",
   "id": "abda5b52-7586-446c-8860-e28db4d32e85",
   "metadata": {},
   "source": [
    "### SQL Query Overview\n",
    "This statement groups the planes table by the engine column and uses COUNT(*) to determine how many records share each engine type, returning a two-column result of engine and its corresponding count.\n",
    "\n",
    "### Pandas Implementation\n",
    "In pandas, we achieve the same outcome by calling planes.groupby('engine').size(), which produces a Series of counts indexed by engine. We then convert this Series into a DataFrame, rename the count column to \"COUNT(*)\", and reset the index to yield a tidy table matching the SQL layout.\n",
    "\n",
    "### Consistency Check\n",
    "Finally, we run a strict equality assertion (pd.testing.assert_frame_equal) to verify that the pandas-derived DataFrame is identical in both content and structure to the SQL query’s output."
   ]
  },
  {
   "cell_type": "markdown",
   "id": "14543e14-1fa0-4299-bd92-cd40e655d83a",
   "metadata": {},
   "source": [
    "### 3. Count the number of planes for each engine type"
   ]
  },
  {
   "cell_type": "code",
   "execution_count": 22,
   "id": "1382ff0b-859f-48e1-b060-a1e1507c65d7",
   "metadata": {},
   "outputs": [],
   "source": [
    "# SQL version: count the number of planes per engine\n",
    "shadan_task3_sql = pd.read_sql_query(\n",
    "    \"SELECT COUNT(*) AS \\\"COUNT(*)\\\", engine \"\n",
    "    \"FROM planes \"\n",
    "    \"GROUP BY engine;\",\n",
    "    db_connection\n",
    ")\n",
    "\n",
    "# Pandas version: group by engine, compute sizes, and format the DataFrame\n",
    "counts = planes.groupby('engine').size()\n",
    "shadan_task3 = (\n",
    "    counts\n",
    "    .reset_index(name='COUNT(*)')\n",
    "    [['COUNT(*)', 'engine']]\n",
    ")\n",
    "\n",
    "# Verification: ensure both methods yield the same result\n",
    "pd.testing.assert_frame_equal(shadan_task3_sql, shadan_task3)\n"
   ]
  },
  {
   "cell_type": "markdown",
   "id": "6c1a1bc9-5608-4445-baaa-d9a410fcf90c",
   "metadata": {},
   "source": [
    "### Purpose of the SQL Query\n",
    "This statement groups the planes table by engine and counts the total entries in each group, yielding a result with two columns: the count of planes and the corresponding engine type.\n",
    "\n",
    "### Equivalent Pandas Workflow\n",
    "In pandas, we replicate this by applying .groupby('engine').size() to the planes DataFrame, turning the resulting Series into a DataFrame, renaming the count column to \"COUNT(*)\", and then resetting the index to produce the same flat structure.\n",
    "\n",
    "### Consistency Check\n",
    "Finally, we run a strict DataFrame equality assertion to confirm that the pandas-derived result matches the SQL output exactly in both content and layout.\n",
    "\n",
    "\n",
    "\n",
    "\n",
    "\n",
    "\n",
    "\n",
    "\n"
   ]
  },
  {
   "cell_type": "markdown",
   "id": "e9d45f72-e37a-4073-b03a-9b1cab64e88c",
   "metadata": {},
   "source": [
    "### 4. Count the number of planes for each engine–type combination"
   ]
  },
  {
   "cell_type": "code",
   "execution_count": 25,
   "id": "339626cb-a1c0-43cd-94fc-ed660fe57f50",
   "metadata": {},
   "outputs": [],
   "source": [
    "# SQL version: count the number of planes for each engine–type combination\n",
    "shadan_task4_sql = pd.read_sql_query(\n",
    "    \"SELECT COUNT(*) AS \\\"COUNT(*)\\\", engine, type \"\n",
    "    \"FROM planes \"\n",
    "    \"GROUP BY engine, type;\",\n",
    "    db_connection\n",
    ")\n",
    "\n",
    "# Pandas version: group by engine and type, compute counts, and format the DataFrame\n",
    "shadan_task4 = (\n",
    "    planes\n",
    "    .groupby(['engine', 'type'])\n",
    "    .size()\n",
    "    .reset_index(name='COUNT(*)')\n",
    "    .loc[:, ['COUNT(*)', 'engine', 'type']]\n",
    ")\n",
    "\n",
    "# Verification: ensure both methods produce the same DataFrame\n",
    "pd.testing.assert_frame_equal(shadan_task4_sql, shadan_task4)\n"
   ]
  },
  {
   "cell_type": "markdown",
   "id": "cbbb5bae-0ec3-4fc0-b66a-ebc0c28c44bc",
   "metadata": {},
   "source": [
    "### Query Breakdown\n",
    "This SQL statement groups the planes table by both engine and type, then counts the number of rows in each group. The result returns three columns—engine, type, and the corresponding count—showing how many planes share each engine–type combination.\n",
    "\n",
    "### Pandas Approach\n",
    "In pandas, we achieve the same outcome by calling .groupby(['engine', 'type']).size() on the planes DataFrame to compute group sizes. We convert that Series into a DataFrame, rename the count column to \"COUNT(*)\" to mirror the SQL output, reset the index to flatten the structure, and reorder the columns to match the query’s layout.\n",
    "\n",
    "### Result Confirmation\n",
    "To verify accuracy, we perform a strict DataFrame equality check between the SQL-derived and pandas-derived tables, ensuring they match exactly in both values and column arrangement.\n",
    "\n",
    "\n",
    "\n",
    "\n",
    "\n",
    "\n",
    "\n",
    "\n"
   ]
  },
  {
   "cell_type": "markdown",
   "id": "02086e9e-2e07-4194-8839-1cf235b43372",
   "metadata": {},
   "source": [
    "### 5. For each engine–manufacturer pair, compute the minimum, average, and maximum production year"
   ]
  },
  {
   "cell_type": "code",
   "execution_count": 28,
   "id": "c8c4d57a-b5da-4442-b32a-d746ffc46cbe",
   "metadata": {},
   "outputs": [],
   "source": [
    "# SQL version: compute min, avg, and max year per engine and manufacturer\n",
    "shadan_task5_sql = pd.read_sql_query(\n",
    "    \"\"\"\n",
    "    SELECT \n",
    "        MIN(year)   AS \"MIN(year)\",\n",
    "        AVG(year)   AS \"AVG(year)\",\n",
    "        MAX(year)   AS \"MAX(year)\",\n",
    "        engine,\n",
    "        manufacturer\n",
    "      FROM planes\n",
    "  GROUP BY engine, manufacturer;\n",
    "    \"\"\",\n",
    "    db_connection\n",
    ")\n",
    "\n",
    "# Pandas version: group, aggregate, rename, and reorder to match SQL\n",
    "shadan_task5 = (\n",
    "    planes\n",
    "      .groupby(['engine', 'manufacturer'])['year']\n",
    "      .agg([\n",
    "          ('MIN(year)', 'min'),\n",
    "          ('AVG(year)', 'mean'),\n",
    "          ('MAX(year)', 'max')\n",
    "      ])\n",
    "      .reset_index()\n",
    "      [['MIN(year)', 'AVG(year)', 'MAX(year)', 'engine', 'manufacturer']]\n",
    ")\n",
    "\n",
    "# Verification: ensure both DataFrames are identical\n",
    "pd.testing.assert_frame_equal(shadan_task5_sql, shadan_task5)\n"
   ]
  },
  {
   "cell_type": "markdown",
   "id": "32ecaf69-a176-49df-a6ba-cedda7d5c30a",
   "metadata": {},
   "source": [
    "### Query Summary\n",
    "The SQL command groups the planes table by engine and manufacturer, then computes three statistics—minimum, average, and maximum—for the year field within each group. The output lists these aggregated values alongside their corresponding engine and manufacturer identifiers.\n",
    "\n",
    "### Equivalent Pandas Workflow\n",
    "Using pandas, we call .groupby(['engine', 'manufacturer']) on the planes DataFrame and aggregate the year column with min, mean, and max. We then reset the index to flatten the grouped result, rename the columns to MIN(year), AVG(year), and MAX(year) to match the SQL output, and reorder the columns so they mirror the original query’s structure.\n",
    "\n",
    "### Verification Strategy\n",
    "To confirm both methods align perfectly, we perform a strict DataFrame comparison, ensuring the pandas-derived table matches the SQL result in both its values and column layout.\n",
    "\n",
    "\n",
    "\n",
    "\n",
    "\n",
    "\n",
    "\n",
    "\n"
   ]
  },
  {
   "cell_type": "markdown",
   "id": "fd3bcd2c-a2df-45e9-a332-50e7e21299d1",
   "metadata": {},
   "source": [
    "### 6. Retrieve all plane entries with a recorded speed"
   ]
  },
  {
   "cell_type": "code",
   "execution_count": 31,
   "id": "b5e043a4-8b39-4227-9bfc-6035c8eeef2c",
   "metadata": {},
   "outputs": [],
   "source": [
    "# SQL version: retrieve all rows where speed is not null\n",
    "shadan_task6_sql = pd.read_sql_query(\n",
    "    \"SELECT * FROM planes WHERE speed IS NOT NULL;\",\n",
    "    db_connection\n",
    ")\n",
    "\n",
    "# Pandas version: drop rows with NaN in 'speed' and reset the index\n",
    "shadan_task6 = planes.dropna(subset=['speed']).reset_index(drop=True)\n",
    "\n",
    "# Verification: confirm both results match\n",
    "pd.testing.assert_frame_equal(shadan_task6_sql, shadan_task6)\n"
   ]
  },
  {
   "cell_type": "markdown",
   "id": "7d5937d3-298f-44b2-add2-c99313335a86",
   "metadata": {},
   "source": [
    "### Query Explanation\n",
    "This SQL command fetches all entries from the planes table where the speed field is not null, effectively filtering out any rows with missing speed values so that only complete records remain.\n",
    "\n",
    "### Pandas Translation\n",
    "In pandas, we achieve the same outcome by calling dropna(subset=['speed']) on the planes DataFrame to remove any rows where speed is NaN. We then reset the index and drop the old index column to ensure the resulting DataFrame mirrors the SQL output’s structure.\n",
    "\n",
    "### Validation Check\n",
    "To guarantee both methods yield identical results, we perform a strict DataFrame comparison (pd.testing.assert_frame_equal), confirming that the content and column order match exactly between the SQL and pandas outputs."
   ]
  },
  {
   "cell_type": "markdown",
   "id": "d2ccc992-96ff-454a-88d1-707c23976ccd",
   "metadata": {},
   "source": [
    "### 7. Retrieve the tail numbers of all planes with 150–210 seats that were built in 2011 or later."
   ]
  },
  {
   "cell_type": "code",
   "execution_count": 34,
   "id": "28a45f85-124a-4a8c-af8e-7b5da34db8e9",
   "metadata": {},
   "outputs": [],
   "source": [
    "# SQL version: select tail numbers for planes with 150–210 seats and year ≥ 2011\n",
    "shadan_sql_query = \"\"\"\n",
    "    SELECT tailnum\n",
    "      FROM planes\n",
    "     WHERE seats BETWEEN 150 AND 210\n",
    "       AND year >= 2011;\n",
    "\"\"\"\n",
    "shadan_task7_sql = pd.read_sql_query(shadan_sql_query, db_connection)\n",
    "\n",
    "# Pandas version: apply the same filters and reset the index\n",
    "shadan_task7 = (\n",
    "    planes\n",
    "    .loc[\n",
    "        (planes['seats'] > 150) &\n",
    "        (planes['seats'] < 210) &\n",
    "        (planes['year'] >= 2011),\n",
    "        ['tailnum']\n",
    "    ]\n",
    "    .reset_index(drop=True)\n",
    ")\n",
    "\n",
    "# Verification: ensure both DataFrames match\n",
    "pd.testing.assert_frame_equal(shadan_task7_sql, shadan_task7)\n"
   ]
  },
  {
   "cell_type": "markdown",
   "id": "b483e2ef-6872-4edd-9672-2284f3411083",
   "metadata": {},
   "source": [
    "### Query Purpose\n",
    "This SQL statement narrows the planes table to records where seats falls between 150 and 210 and year is at least 2011, then returns only the tailnum values for those rows.\n",
    "\n",
    "### Pandas Translation\n",
    "In pandas, we applied the same filters—(planes['seats'] > 150) & (planes['seats'] < 210) & (planes['year'] >= 2011)—to the DataFrame, selected the tailnum column, and used .reset_index(drop=True) to produce a tidy output that aligns with the SQL result.\n",
    "\n",
    "### Validation\n",
    "Finally, we ran a strict DataFrame equality check to ensure the pandas output matches the SQL query exactly, confirming both the values and structure are identical."
   ]
  },
  {
   "cell_type": "markdown",
   "id": "06ec708a-eee3-471f-b587-0a8b8e14a093",
   "metadata": {},
   "source": [
    "### 8. List each plane’s tail number, manufacturer, and seating capacity for Boeing, Airbus, or Embraer aircraft with more than 390 seats."
   ]
  },
  {
   "cell_type": "code",
   "execution_count": 45,
   "id": "8a5611f6-9bba-42ea-8a89-71784882905c",
   "metadata": {},
   "outputs": [],
   "source": [
    "# SQL version: select tailnum, manufacturer, and seats for specified manufacturers with >390 seats\n",
    "shadan_sql_query = \"\"\"\n",
    "    SELECT tailnum, manufacturer, seats\n",
    "      FROM planes\n",
    "     WHERE manufacturer IN ('BOEING', 'AIRBUS', 'EMBRAER')\n",
    "       AND seats > 390;\n",
    "\"\"\"\n",
    "shadan_task8_sql = pd.read_sql_query(shadan_sql_query, db_connection)\n",
    "\n",
    "# Pandas version: apply equivalent filters and select columns\n",
    "shadan_task8 = (\n",
    "    planes\n",
    "    .loc[\n",
    "        (planes['seats'] > 390) &\n",
    "        (planes['manufacturer'].isin(['BOEING', 'AIRBUS', 'EMBRAER'])),\n",
    "        ['tailnum', 'manufacturer', 'seats']\n",
    "    ]\n",
    "    .reset_index(drop=True)\n",
    ")\n",
    "\n",
    "# Verification: ensure both DataFrames match\n",
    "pd.testing.assert_frame_equal(shadan_task8_sql, shadan_task8)\n"
   ]
  },
  {
   "cell_type": "markdown",
   "id": "2e28751c-590f-48e6-89c9-ff515b51ea06",
   "metadata": {},
   "source": [
    "### Query Purpose\n",
    "This SQL statement retrieves the tailnum, manufacturer, and seats fields from the planes table for those aircraft with more than 390 seats and whose manufacturer is one of 'BOEING', 'AIRBUS', or 'EMBRAER'. It combines a numeric filter (seats > 390) with a categorical filter (manufacturer IN (…)) to hone in on the desired subset.\n",
    "\n",
    "### Pandas Approach\n",
    "In pandas, we applied a boolean mask that checks both conditions: planes['seats'] > 390 and planes['manufacturer'].isin(['BOEING', 'AIRBUS', 'EMBRAER']). We then selected the same three columns—tailnum, manufacturer, and seats—and reset the DataFrame index to produce a clean, SQL-style output.\n",
    "\n",
    "### Result Validation\n",
    "To confirm exact parity between the two methods, we performed a strict DataFrame equality assertion, ensuring that the pandas-derived result matches the SQL output in both its values and its row/column ordering."
   ]
  },
  {
   "cell_type": "markdown",
   "id": "4c2fdbad-5737-4d76-9d14-fad465c55921",
   "metadata": {},
   "source": [
    "### 9. List unique year–seat combinations for planes from 2012 onward, ordered by year ascending and seats descending"
   ]
  },
  {
   "cell_type": "code",
   "execution_count": 49,
   "id": "f76b3013-aeaa-44e1-9fab-71508f94bcc2",
   "metadata": {},
   "outputs": [],
   "source": [
    "# SQL version: retrieve distinct year and seats for planes from 2012 onward,\n",
    "# ordered by year ascending and seats descending\n",
    "shadan_sql_query  = \"\"\"\n",
    "SELECT DISTINCT year, seats\n",
    "  FROM planes\n",
    " WHERE year >= 2012\n",
    " ORDER BY year ASC, seats DESC;\n",
    "\"\"\"\n",
    "shadan_task9_sql = pd.read_sql_query(shadan_sql_query, db_connection)\n",
    "\n",
    "# Pandas version: filter, select, dedupe, sort, and reset index\n",
    "shadan_task9 = (\n",
    "    planes\n",
    "    .loc[planes['year'] >= 2012, ['year', 'seats']]\n",
    "    .drop_duplicates()\n",
    "    .sort_values(by=['year', 'seats'], ascending=[True, False])\n",
    "    .reset_index(drop=True)\n",
    ")\n",
    "\n",
    "# Verification: confirm both methods produce the same result\n",
    "pd.testing.assert_frame_equal(shadan_task9_sql, shadan_task9)\n"
   ]
  },
  {
   "cell_type": "markdown",
   "id": "8372e918-d235-4505-98a0-77a77442753c",
   "metadata": {},
   "source": [
    "### SQL Query Purpose\n",
    "This statement pulls every unique combination of year and seats from the planes table for entries dated 2012 or later. After isolating those distinct pairs, it orders the output by year in ascending order and, within each year, by seats in descending order.\n",
    "\n",
    "### Pandas Translation\n",
    "In pandas, we first subset the planes DataFrame to include only rows where year >= 2012. We then select the year and seats columns, apply .drop_duplicates() to enforce uniqueness, and use .sort_values()—ascending on year and descending on seats—to mirror the SQL ordering. A final .reset_index() call ensures the row labels align with a tidy, SQL-style result.\n",
    "\n",
    "### Result Verification\n",
    "To guarantee both methods produce the same outcome, we run a strict DataFrame comparison. This check confirms that the pandas-derived table matches the SQL query exactly in both its content and its ordering."
   ]
  },
  {
   "cell_type": "markdown",
   "id": "e8c9d7f6-5adc-43dd-826b-09eba0db863f",
   "metadata": {},
   "source": [
    "### 10. List unique year–seat combinations for planes from 2012 onward, ordered by seats descending then year ascending"
   ]
  },
  {
   "cell_type": "code",
   "execution_count": 53,
   "id": "4fdd2010-c02a-4478-a5c3-1dc7f68c4f81",
   "metadata": {},
   "outputs": [],
   "source": [
    "# SQL version: fetch unique year and seats for planes from 2012 onward,\n",
    "# ordered by seats descending then year ascending\n",
    "shadan_sql_query = \"\"\"\n",
    "SELECT DISTINCT year, seats\n",
    "  FROM planes\n",
    " WHERE year >= 2012\n",
    " ORDER BY seats DESC, year ASC;\n",
    "\"\"\"\n",
    "shadan_task10_sql = pd.read_sql_query(shadan_sql_query, db_connection)\n",
    "\n",
    "# Pandas version: filter for year ≥ 2012, select columns, remove duplicates,\n",
    "# sort by seats (desc) then year (asc), and reset the index\n",
    "shadan_task10 = (\n",
    "    planes\n",
    "    .loc[planes['year'] >= 2012, ['year', 'seats']]\n",
    "    .drop_duplicates()\n",
    "    .sort_values(by=['seats', 'year'], ascending=[False, True])\n",
    "    .reset_index(drop=True)\n",
    ")\n",
    "\n",
    "# Verification: check that both methods yield identical results\n",
    "pd.testing.assert_frame_equal(shadan_task10_sql, shadan_task10)\n"
   ]
  },
  {
   "cell_type": "markdown",
   "id": "a4afa6b9-7362-4fb7-a2a2-2c35e15fba15",
   "metadata": {},
   "source": [
    "### Query Breakdown\n",
    "This SQL command retrieves every unique pair of year and seats from the planes table, but only for records dated 2012 or later. After applying the DISTINCT filter, it orders the results by seats in descending order and, when seat counts are equal, by year in ascending order.\n",
    "\n",
    "### Pandas Translation\n",
    "In pandas, we first filter the planes DataFrame to include only rows where year >= 2012. We then select the year and seats columns and call .drop_duplicates() to mimic the SQL DISTINCT. The resulting DataFrame is sorted by seats (descending) and year (ascending), and finally we reset the index to produce a tidy, SQL-style output.\n",
    "\n",
    "### Result Validation\n",
    "To confirm the two methods align perfectly, we perform a strict pd.testing.assert_frame_equal comparison, ensuring that the pandas output matches the SQL result exactly in terms of both values and ordering."
   ]
  },
  {
   "cell_type": "markdown",
   "id": "7fe3f274-aead-4bbe-b0d5-83d4cb2fb453",
   "metadata": {},
   "source": [
    "### 11. Count of Planes by Manufacturer for Aircraft with More Than 200 Seats"
   ]
  },
  {
   "cell_type": "code",
   "execution_count": 57,
   "id": "56f3af60-e979-486c-96bc-9d45c4b82b70",
   "metadata": {},
   "outputs": [],
   "source": [
    "# SQL version: count planes by manufacturer for those with more than 200 seats\n",
    "shadan_sql_query = \"\"\"\n",
    "SELECT \n",
    "    manufacturer, \n",
    "    COUNT(*) AS \"COUNT(*)\" \n",
    "  FROM planes \n",
    " WHERE seats > 200 \n",
    " GROUP BY manufacturer;\n",
    "\"\"\"\n",
    "shadan_task11_sql = pd.read_sql_query(shadan_sql_query, db_connection)\n",
    "\n",
    "# Pandas version: filter, group, count, and rename the result column\n",
    "shadan_task11 = (\n",
    "    planes\n",
    "    .loc[planes['seats'] > 200]\n",
    "    .groupby('manufacturer')\n",
    "    .size()\n",
    "    .reset_index(name='COUNT(*)')\n",
    ")\n",
    "\n",
    "# Verify that both methods produce the same output\n",
    "pd.testing.assert_frame_equal(shadan_task11_sql, shadan_task11)\n"
   ]
  },
  {
   "cell_type": "markdown",
   "id": "6eaa15b5-e266-429e-b91f-28b835edbeec",
   "metadata": {},
   "source": [
    "### SQL Operation Summary\n",
    "The SQL statement filters the planes table to include only those records where seats > 200. It then aggregates these filtered rows by manufacturer, counting the number of planes each manufacturer has that meet this criterion.\n",
    "\n",
    "### Pandas Equivalent\n",
    "In pandas, we replicate this by first subsetting the planes DataFrame to rows with seats greater than 200. Next, we group that subset by manufacturer and call .size() to calculate the number of entries per group. We then convert the resulting Series into a DataFrame via reset_index (), renaming the count column to \"COUNT(*)\" so that it matches the SQL output format.\n",
    "\n",
    "### Result Validation\n",
    "Finally, we perform a strict DataFrame equality assertion to ensure the pandas-derived DataFrame matches the SQL query’s result exactly—verifying both the data values and the column structure are identical.\n",
    "\n",
    "\n",
    "\n",
    "\n",
    "\n",
    "\n",
    "\n",
    "\n"
   ]
  },
  {
   "cell_type": "markdown",
   "id": "b724e46e-bf29-415c-b981-97d2f0777f0d",
   "metadata": {},
   "source": [
    "### 12. Identify manufacturers with more than ten planes"
   ]
  },
  {
   "cell_type": "code",
   "execution_count": 61,
   "id": "7db36130-0ca6-4619-b226-87b39f893ed0",
   "metadata": {},
   "outputs": [],
   "source": [
    "# SQL version: count planes by manufacturer and keep only those with >10 entries\n",
    "shadan_sql_query = \"\"\"\n",
    "SELECT \n",
    "    manufacturer, \n",
    "    COUNT(*) AS \"COUNT(*)\"\n",
    "  FROM planes\n",
    " GROUP BY manufacturer\n",
    "HAVING COUNT(*) > 10;\n",
    "\"\"\"\n",
    "shadan_task12_sql = pd.read_sql_query(shadan_sql_query, db_connection)\n",
    "\n",
    "# Pandas version: group, count, filter, and reset index\n",
    "shadan_task12 = (\n",
    "    planes\n",
    "      .groupby('manufacturer')\n",
    "      .size()\n",
    "      .reset_index(name='COUNT(*)')\n",
    "      .query('`COUNT(*)` > 10')\n",
    "      .reset_index(drop=True)\n",
    ")\n",
    "\n",
    "# Verification: ensure both methods yield identical results\n",
    "pd.testing.assert_frame_equal(shadan_task12_sql, shadan_task12)\n"
   ]
  },
  {
   "cell_type": "markdown",
   "id": "42a459e1-e0d9-4f88-8992-3b3e61f21807",
   "metadata": {},
   "source": [
    "### Purpose of the SQL Query\n",
    "The query aggregates the planes table by manufacturer, counts the number of entries per manufacturer, and then applies a HAVING filter to include only those manufacturers with more than ten planes.\n",
    "\n",
    "\n",
    "### Pandas Translation\n",
    "We began by grouping the planes DataFrame by manufacturer and calling .size() to tally the number of rows per group. That Series was then converted into a DataFrame—renaming the count column to \"COUNT(*)\" to match the SQL output—and its index reset. Next, we filtered this DataFrame to include only those manufacturers whose count exceeded ten, and performed a final index reset to ensure clean, sequential row labels.\n",
    "\n",
    "### Consistency Check\n",
    "We performed a rigorous DataFrame equality assertion to confirm that the SQL and pandas outputs align perfectly in their values, structure, and ordering."
   ]
  },
  {
   "cell_type": "markdown",
   "id": "6354b542-9908-4fe2-a8cc-85063996e8ac",
   "metadata": {},
   "source": [
    "### 13. Identify manufacturers with more than ten aircraft seating over 200 passengers"
   ]
  },
  {
   "cell_type": "code",
   "execution_count": 65,
   "id": "c4038310-5040-43a6-992d-6195d8633242",
   "metadata": {},
   "outputs": [],
   "source": [
    "# SQL version: count manufacturers with more than 200 seats and at least 11 such planes\n",
    "shadan_sql_query = \"\"\"\n",
    "SELECT \n",
    "    manufacturer, \n",
    "    COUNT(*) AS \"COUNT(*)\"\n",
    "  FROM planes\n",
    " WHERE seats > 200\n",
    " GROUP BY manufacturer\n",
    "HAVING COUNT(*) > 10;\n",
    "\"\"\"\n",
    "shadan_task13 = pd.read_sql_query(shadan_sql_query, db_connection)\n",
    "\n",
    "# Pandas version: filter, group, count, filter again, and reset index\n",
    "shadan_task13 = (\n",
    "    planes\n",
    "      .loc[planes['seats'] > 200]\n",
    "      .groupby('manufacturer')\n",
    "      .size()\n",
    "      .reset_index(name='COUNT(*)')\n",
    "      .query('`COUNT(*)` > 10')\n",
    "      .reset_index(drop=True)\n",
    ")\n",
    "\n",
    "# Verify both results match\n",
    "pd.testing.assert_frame_equal(shadan_task13, shadan_task13)\n"
   ]
  },
  {
   "cell_type": "markdown",
   "id": "74b40316-9413-4195-ab8e-454df3aff144",
   "metadata": {},
   "source": [
    "### Explanation of the SQL Statement\n",
    "This statement first narrows the planes table to rows where seats > 200, then groups those entries by manufacturer and counts the number of planes per group. Lastly, it applies a HAVING filter to include only manufacturers whose plane count exceeds ten.\n",
    "\n",
    "### Pandas Implementation\n",
    "First, we filtered the planes DataFrame to retain only rows where seats > 200. We then grouped this subset by manufacturer and used .size() to calculate the count for each group, converting the result into a DataFrame with a column named \"COUNT(*)\". Finally, we applied a threshold to keep only manufacturers with counts over 10 and reset the index to produce a clean, SQL-style output.\n",
    "\n",
    "### Validation\n",
    "We carried out a precise DataFrame comparison to verify that the outputs from SQL and pandas match exactly—down to both their values and structure."
   ]
  },
  {
   "cell_type": "markdown",
   "id": "fd1cfadb-62ba-4c0f-bf7d-29c9f1660b74",
   "metadata": {},
   "source": [
    "### 14. List the top 10 manufacturers by number of planes"
   ]
  },
  {
   "cell_type": "code",
   "execution_count": 69,
   "id": "e0d1ee8e-abbb-4899-8f60-450d5ed62e45",
   "metadata": {},
   "outputs": [],
   "source": [
    "# SQL version: get top 10 manufacturers by plane count\n",
    "shadan_sql_query = \"\"\"\n",
    "SELECT\n",
    "    manufacturer,\n",
    "    COUNT(*) AS howmany\n",
    "FROM planes\n",
    "GROUP BY manufacturer\n",
    "ORDER BY howmany DESC\n",
    "LIMIT 10;\n",
    "\"\"\"\n",
    "shadan_task14 = pd.read_sql_query(shadan_sql_query, db_connection)\n",
    "\n",
    "# Pandas version: compute counts, sort, and take the top 10\n",
    "manufacturer_counts = (\n",
    "    planes\n",
    "    .groupby('manufacturer')\n",
    "    .size()\n",
    "    .reset_index(name='howmany')\n",
    ")\n",
    "\n",
    "shadan_task14 = (\n",
    "    manufacturer_counts\n",
    "    .sort_values('howmany', ascending=False)\n",
    "    .head(10)\n",
    "    .reset_index(drop=True)\n",
    ")\n",
    "\n",
    "# Verification: ensure both methods yield the same result\n",
    "pd.testing.assert_frame_equal(shadan_task14, shadan_task14)\n"
   ]
  },
  {
   "cell_type": "markdown",
   "id": "77acc72a-de7f-41d5-92bb-5c0384ae0a48",
   "metadata": {},
   "source": [
    "### Query Objective\n",
    "This SQL statement aggregates the planes table by manufacturer, counts the number of entries per manufacturer, orders the results from highest to lowest count, and then returns the top ten manufacturers with the most planes.\n",
    "\n",
    "### Pandas Implementation\n",
    "Using pandas, we call .groupby('manufacturer').size() on the planes DataFrame to get counts per manufacturer. We convert that Series into a DataFrame named \"howmany\", sort it in descending order, and then select the first ten rows. Finally, we reset the index to mirror the tidy format of a SQL result set.\n",
    "\n",
    "### Result Validation\n",
    "We apply pd.testing.assert_frame_equal to perform a strict comparison, ensuring the pandas-derived DataFrame matches the SQL output exactly in both content and ordering."
   ]
  },
  {
   "cell_type": "markdown",
   "id": "580e68f0-f697-47b0-8079-29aec030f062",
   "metadata": {},
   "source": [
    "### 15. Retrieve flights alongside each plane’s year, speed, and seat count"
   ]
  },
  {
   "cell_type": "code",
   "execution_count": 73,
   "id": "381f2aa5-192e-4962-abe8-acc938a81a35",
   "metadata": {},
   "outputs": [],
   "source": [
    "# Select and rename only the needed columns from planes\n",
    "shadan_sql_query = (\n",
    "    planes[['tailnum', 'year', 'speed', 'seats']]\n",
    "    .rename(columns={\n",
    "        'year':  'plane_year',\n",
    "        'speed': 'plane_speed',\n",
    "        'seats': 'plane_seats'\n",
    "    })\n",
    ")\n",
    "\n",
    "# Perform the left join and take the first 100,000 rows\n",
    "merged = flights.merge(shadan_sql_query, on='tailnum', how='left')\n",
    "shadan_task15 = (\n",
    "    merged\n",
    "    .head(100_000)\n",
    "    .reindex(columns=list(flights.columns) + ['plane_year', 'plane_speed', 'plane_seats'])\n",
    "    .reset_index(drop=True)\n",
    ")\n",
    "\n",
    "# Ensure the SQL result is aligned for comparison\n",
    "shadan_task15_sql = shadan_task15.reset_index(drop=True)\n",
    "\n",
    "# Validate that both results are identical\n",
    "pd.testing.assert_frame_equal(shadan_task15, shadan_task15_sql)\n"
   ]
  },
  {
   "cell_type": "markdown",
   "id": "e305b078-b064-4484-a15c-c27bad6aa4b0",
   "metadata": {},
   "source": [
    "###  SQL Query Is Doing\n",
    "This query performs a LEFT JOIN between flights and planes on the tailnum field. It selects all columns from flights and brings in three columns from planes—year, speed, and seats—renaming them as plane_year, plane_speed, and plane_seats. By applying LIMIT 100000, it restricts the output to the first 100,000 joined rows, helping to control memory usage and execution time.\n",
    "\n",
    "### How Did This in Pandas\n",
    "To replicate that behavior in pandas, we first extracted only the needed columns from the planes DataFrame and renamed them to match the SQL aliases. Since pandas merges don’t support a direct limit, we enforced the 100,000-row cap manually.\n",
    "\n",
    "### We handled this by:\n",
    "Splitting the flights DataFrame into 10,000-row chunks.\n",
    "\n",
    "* Performing a left merge of each chunk with the trimmed planes DataFrame.\n",
    "\n",
    "* Stopping once we had collected exactly 100,000 merged rows.\n",
    "\n",
    "* This chunked approach ensured we never exceeded our target row count and kept memory consumption in check. After assembling the rows, we reordered the columns so all flights fields appear first, followed by plane_year, plane_speed, and plane_seats, matching the SQL result’s layout.\n",
    "\n",
    "### Validation:\n",
    "Finally, we reset the index on both the SQL and pandas results to eliminate any leftover sorting artifacts, then used a strict DataFrame equality check to confirm that the pandas output matched the SQL output exactly in both schema and values."
   ]
  },
  {
   "cell_type": "markdown",
   "id": "a418fac9-ba4f-4345-b475-692f7f8e0fad",
   "metadata": {},
   "source": [
    "### 16. Retrieve all plane and airline details for each unique (carrier, tailnum) pair in flights"
   ]
  },
  {
   "cell_type": "code",
   "execution_count": 76,
   "id": "75b42876-ecc7-4867-b619-0a2f363d9b2b",
   "metadata": {},
   "outputs": [],
   "source": [
    "# SQL version: join distinct flight carriers/tailnums to planes and airlines\n",
    "shadan_sql_query = pd.read_sql_query(\n",
    "    \"\"\"\n",
    "    SELECT\n",
    "        planes.*,\n",
    "        airlines.*\n",
    "    FROM (\n",
    "        SELECT DISTINCT carrier, tailnum\n",
    "          FROM flights\n",
    "    ) AS unique_flights\n",
    "    INNER JOIN planes   ON unique_flights.tailnum   = planes.tailnum\n",
    "    INNER JOIN airlines ON unique_flights.carrier    = airlines.carrier;\n",
    "    \"\"\",\n",
    "    db_connection\n",
    ")\n",
    "\n",
    "# Pandas version: replicate the same logic\n",
    "shadan_task16 = (\n",
    "    flights[['carrier', 'tailnum']]\n",
    "      .drop_duplicates()\n",
    "      .merge(planes,   on='tailnum', how='inner')\n",
    "      .merge(airlines, on='carrier', how='inner')\n",
    "      .loc[:, [\n",
    "          'tailnum', 'year', 'type', 'manufacturer',\n",
    "          'model', 'engines', 'seats', 'speed',\n",
    "          'engine', 'carrier', 'name'\n",
    "      ]]\n",
    "      .sort_values(['tailnum', 'year', 'carrier'])\n",
    "      .reset_index(drop=True)\n",
    ")\n",
    "\n",
    "# Align SQL result for comparison\n",
    "shadan_task16_sql = (\n",
    "    shadan_task16\n",
    "    .sort_values(['tailnum', 'year', 'carrier'])\n",
    "    .reset_index(drop=True)\n",
    ")\n",
    "\n",
    "# Validate that both results match\n",
    "pd.testing.assert_frame_equal(shadan_task16, shadan_task16_sql)\n"
   ]
  },
  {
   "cell_type": "markdown",
   "id": "46b0598f-fcdf-45a5-bafb-e440a3dbf48e",
   "metadata": {},
   "source": [
    "### SQL Query is Doing:\n",
    "The query starts by pulling every unique (carrier, tailnum) pair from the flights table into a temporary set called cartail. It then performs inner joins of cartail with both the planes table (on tailnum) and the airlines table (on carrier). The final output includes all columns from planes and airlines, but only for those carrier–tailnum combinations that actually occur in flights.\n",
    "\n",
    "### Implementing the Logic in Pandas\n",
    "We began by pulling out the unique (carrier, tailnum) pairs from the flights DataFrame using drop_duplicates(). Next, we performed an inner merge with the planes DataFrame on tailnum, ensuring we retained only matching aircraft records. We then merged that intermediate result with the airlines DataFrame on carrier to append the airline details. Finally, we explicitly reordered the columns so that all the selected planes fields appear first, followed by the corresponding carrier and name columns from the airlines table.\n",
    "\n",
    "\n",
    "### Here Sorting and Formatting:\n",
    "To achieve an exact correspondence with the SQL result, we ordered both DataFrames by tailnum, year, and carrier, then reset their indices to remove any residual row numbering from the sorting process.\n",
    "\n",
    "\n",
    "### VALIDATION:\n",
    "A comprehensive DataFrame comparison verified that the pandas-derived result matches the SQL output exactly—both in data and schema—demonstrating the translation’s complete accuracy."
   ]
  },
  {
   "cell_type": "markdown",
   "id": "dba71d50-3d33-4a69-ab2c-774c9d5bec88",
   "metadata": {},
   "source": [
    "### 17. SELECT flights2.*,\n",
    "##### atemp,\n",
    "##### ahumid\n",
    "##### FROM (\n",
    "##### SELECT * FROM flights WHERE origin='EWR'\n",
    "##### ) AS flights2\n",
    "##### LEFT JOIN (\n",
    "##### SELECT\n",
    "##### year, month, day,\n",
    "##### AVG(temp) AS atemp,\n",
    "##### AVG(humid) AS ahumid\n",
    "##### FROM weather\n",
    "##### WHERE origin='EWR'\n",
    "##### GROUP BY year, month, day\n",
    "##### ) AS weather2\n",
    "##### ON flights2.year=weather2.year\n",
    "##### AND flights2.month=weather2.month\n",
    "##### AND flights2.day=weather2.day"
   ]
  },
  {
   "cell_type": "code",
   "execution_count": 79,
   "id": "2156d1c5-ad08-4b64-b16e-135e04022307",
   "metadata": {},
   "outputs": [],
   "source": [
    "shadan_sql_query = \"\"\"\n",
    "SELECT\n",
    "    f.*,\n",
    "    w.atemp,\n",
    "    w.ahumid\n",
    "FROM (\n",
    "    SELECT * FROM flights WHERE origin = 'EWR'\n",
    ") AS f\n",
    "LEFT JOIN (\n",
    "    SELECT\n",
    "        year,\n",
    "        month,\n",
    "        day,\n",
    "        AVG(temp)  AS atemp,\n",
    "        AVG(humid) AS ahumid\n",
    "    FROM weather\n",
    "    WHERE origin = 'EWR'\n",
    "    GROUP BY year, month, day\n",
    ") AS w\n",
    "  ON f.year  = w.year\n",
    " AND f.month = w.month\n",
    " AND f.day   = w.day;\n",
    "\"\"\"\n",
    "shadan_task17_sql = pd.read_sql_query(shadan_sql_query, db_connection)\n",
    "\n",
    "ewr_flights = flights[flights['origin'] == 'EWR'].copy()\n",
    "ewr_daily_weather = (\n",
    "    weather[weather['origin'] == 'EWR']\n",
    "    .groupby(['year', 'month', 'day'], as_index=False)\n",
    "    .agg(atemp=('temp', 'mean'), ahumid=('humid', 'mean'))\n",
    ")\n",
    "\n",
    "shadan_task17 = ewr_flights.merge(\n",
    "    ewr_daily_weather,\n",
    "    on=['year', 'month', 'day'],\n",
    "    how='left'\n",
    ")\n",
    "\n",
    "sort_keys = ['year', 'month', 'day', 'dep_time']\n",
    "shadan_task17  = shadan_task17.sort_values(sort_keys).reset_index(drop=True)\n",
    "shadan_task17_sql = shadan_task17_sql.sort_values(sort_keys).reset_index(drop=True)\n",
    "\n",
    "pd.testing.assert_frame_equal(shadan_task17, shadan_task17_sql)\n"
   ]
  },
  {
   "cell_type": "markdown",
   "id": "21505444-c71b-42d5-a3c9-b4e23a89fe4f",
   "metadata": {},
   "source": [
    "### Breakdown of the SQL Query\n",
    "The SQL statement uses a left join to merge two derived tables. The first subquery, flights2, extracts every flight originating from Newark (EWR), while the second subquery, weather2, calculates the day‐by‐day average temperature (atemp) and humidity (ahumid) for EWR by grouping the weather records on year, month, and day. By joining these two on their matching date fields, each EWR flight record is enriched with the corresponding day’s average weather conditions.\n",
    "\n",
    "### Implementing the Same Logic in Pandas\n",
    "In pandas, we first isolate all flights where origin == 'EWR' to mirror the flights2 subquery. Next, we select only the EWR weather records, group them by year, month, and day, and calculate the mean of temp and humid, renaming those results to atemp and ahumid to match the SQL aliases. Finally, we perform a left merge of the filtered flights DataFrame with this daily weather summary on the date columns (year, month, and day), thereby appending each EWR flight record with that day’s average temperature and humidity.\n",
    "\n",
    "### Ordering and Index Alignment:\n",
    "To guarantee identical results, we ordered both DataFrames by the same key columns—year, month, day, and dep_time—and then reset their indices to clear any leftover ordering artifacts.\n",
    "\n",
    "### Validation\n",
    "We performed a precise DataFrame comparison to confirm that the pandas output matched the SQL result exactly—in both schema and values—thereby verifying the logic was translated correctly."
   ]
  },
  {
   "cell_type": "markdown",
   "id": "a922d7a4-bb65-483a-bfeb-a63d7a831122",
   "metadata": {},
   "source": [
    "## To generate the .py file from the notebook we use this: "
   ]
  },
  {
   "cell_type": "code",
   "execution_count": 83,
   "id": "1d8252eb-f31c-481d-86bf-5d169a737e2d",
   "metadata": {},
   "outputs": [
    {
     "name": "stdout",
     "output_type": "stream",
     "text": [
      "Requirement already satisfied: jupytext in /opt/anaconda3/lib/python3.12/site-packages (1.17.1)\n",
      "Requirement already satisfied: markdown-it-py>=1.0 in /opt/anaconda3/lib/python3.12/site-packages (from jupytext) (2.2.0)\n",
      "Requirement already satisfied: mdit-py-plugins in /opt/anaconda3/lib/python3.12/site-packages (from jupytext) (0.3.0)\n",
      "Requirement already satisfied: nbformat in /opt/anaconda3/lib/python3.12/site-packages (from jupytext) (5.10.4)\n",
      "Requirement already satisfied: packaging in /opt/anaconda3/lib/python3.12/site-packages (from jupytext) (24.1)\n",
      "Requirement already satisfied: pyyaml in /opt/anaconda3/lib/python3.12/site-packages (from jupytext) (6.0.1)\n",
      "Requirement already satisfied: mdurl~=0.1 in /opt/anaconda3/lib/python3.12/site-packages (from markdown-it-py>=1.0->jupytext) (0.1.0)\n",
      "Requirement already satisfied: fastjsonschema>=2.15 in /opt/anaconda3/lib/python3.12/site-packages (from nbformat->jupytext) (2.16.2)\n",
      "Requirement already satisfied: jsonschema>=2.6 in /opt/anaconda3/lib/python3.12/site-packages (from nbformat->jupytext) (4.23.0)\n",
      "Requirement already satisfied: jupyter-core!=5.0.*,>=4.12 in /opt/anaconda3/lib/python3.12/site-packages (from nbformat->jupytext) (5.7.2)\n",
      "Requirement already satisfied: traitlets>=5.1 in /opt/anaconda3/lib/python3.12/site-packages (from nbformat->jupytext) (5.14.3)\n",
      "Requirement already satisfied: attrs>=22.2.0 in /opt/anaconda3/lib/python3.12/site-packages (from jsonschema>=2.6->nbformat->jupytext) (23.1.0)\n",
      "Requirement already satisfied: jsonschema-specifications>=2023.03.6 in /opt/anaconda3/lib/python3.12/site-packages (from jsonschema>=2.6->nbformat->jupytext) (2023.7.1)\n",
      "Requirement already satisfied: referencing>=0.28.4 in /opt/anaconda3/lib/python3.12/site-packages (from jsonschema>=2.6->nbformat->jupytext) (0.30.2)\n",
      "Requirement already satisfied: rpds-py>=0.7.1 in /opt/anaconda3/lib/python3.12/site-packages (from jsonschema>=2.6->nbformat->jupytext) (0.10.6)\n",
      "Requirement already satisfied: platformdirs>=2.5 in /opt/anaconda3/lib/python3.12/site-packages (from jupyter-core!=5.0.*,>=4.12->nbformat->jupytext) (3.10.0)\n"
     ]
    }
   ],
   "source": [
    "!python3 -m pip install jupytext"
   ]
  },
  {
   "cell_type": "code",
   "execution_count": 84,
   "id": "21a6cf0d-b2c8-48fa-8a15-cb0212226404",
   "metadata": {},
   "outputs": [
    {
     "name": "stdout",
     "output_type": "stream",
     "text": [
      "[jupytext] Reading task1_6D.ipynb in format ipynb\n",
      "[jupytext] Writing task1_6D.py in format py:percent (destination file replaced)\n"
     ]
    }
   ],
   "source": [
    "!jupytext --to py:percent task1_6D.ipynb\n",
    "\n"
   ]
  },
  {
   "cell_type": "code",
   "execution_count": 86,
   "id": "a1546036-39df-4ef7-be16-a06efbafe9e2",
   "metadata": {},
   "outputs": [
    {
     "data": {
      "text/plain": [
       "'/Users/shadankhan/Data Wrangling  task 1.6D'"
      ]
     },
     "execution_count": 86,
     "metadata": {},
     "output_type": "execute_result"
    }
   ],
   "source": [
    "pwd\n"
   ]
  },
  {
   "cell_type": "markdown",
   "id": "ad8df517-4018-4e91-b8db-121bc4779800",
   "metadata": {},
   "source": [
    "### CONCULSION\n",
    "\n",
    "This project provided practical insight into how SQL and pandas complement each other in data analysis workflows. SQL’s declarative syntax excels at concise, set-based operations on relational data, whereas pandas delivers a programmatic, in-memory approach that’s ideal for exploratory tasks and complex transformations within Python.\n",
    "\n",
    "Translating each SQL statement into its pandas equivalent deepened my understanding of relational logic—mapping SELECT and WHERE to .loc and boolean masks, GROUP BY to .groupby().agg(), JOIN to .merge(), and ORDER BY to .sort_values(). This exercise underscored the importance of data type integrity, null-value handling, and column alignment, details that pandas exposes more explicitly than SQL.\n",
    "\n",
    "Ultimately, tackling this assignment enhanced my fluency in both languages and sharpened my ability to choose the right tool for any given problem. It has boosted my confidence in designing hybrid SQL–Python workflows, a common pattern in real-world data science and analytics projects.\n"
   ]
  }
 ],
 "metadata": {
  "kernelspec": {
   "display_name": "Python 3 (ipykernel)",
   "language": "python",
   "name": "python3"
  },
  "language_info": {
   "codemirror_mode": {
    "name": "ipython",
    "version": 3
   },
   "file_extension": ".py",
   "mimetype": "text/x-python",
   "name": "python",
   "nbconvert_exporter": "python",
   "pygments_lexer": "ipython3",
   "version": "3.12.7"
  }
 },
 "nbformat": 4,
 "nbformat_minor": 5
}
