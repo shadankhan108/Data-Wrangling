{
 "cells": [
  {
   "cell_type": "code",
   "execution_count": 1,
   "id": "da17ebf7-d159-4f6d-a1a3-388545ced08e",
   "metadata": {},
   "outputs": [],
   "source": [
    "#importing the libraries\n",
    "import matplotlib.pyplot as plt\n",
    "import numpy as np"
   ]
  },
  {
   "cell_type": "markdown",
   "id": "89a7fbf7-5cfe-42dc-8d5d-efc41fe1038a",
   "metadata": {},
   "source": [
    "## 1. Question: \n",
    "Download the latest daily close BTC-to-USD data, from 2023-01-01 up to this day, available at ht\n",
    "tps://finance.yahoo.com/quote/BTC-USD (the Historical"
   ]
  },
  {
   "cell_type": "markdown",
   "id": "58ddcf83-fbc3-40ad-b6d8-bec1254be0f5",
   "metadata": {},
   "source": [
    "###1.1 Solution\n",
    "\n",
    "To begin the analysis, I downloaded the most recent daily closing price data for Bitcoin (BTC) against the US Dollar (USD) from Yahoo Finance. I navigated to the BTC-USD page, selected the Historical Data tab, set the date range from January 1, 2023, to the present day, and chose the data frequency as Daily. I then downloaded the data in CSV format.\n",
    "\n",
    "After opening the CSV file in Microsoft Excel, I performed the following data cleaning steps:\n",
    "\t\n",
    "    1.Removed Unnecessary Columns: I deleted all columns except the ‘Close’ prices to retain only the relevant numerical values needed for analysis.\n",
    "\t\n",
    "    2.Deleted Column Headers: I removed the header row to ensure the file was clean and contained only raw numerical data.\n",
    "\t\n",
    "    3.Eliminated Non-Numeric Entries: I reviewed the data for any non-numeric or missing values and removed them to maintain dataset integrity.\n",
    "\t\n",
    "    4.Saved as a Clean CSV: Finally, I saved the cleaned file as a new CSV, where each line contains only one daily closing price.\n",
    "\n",
    "This cleaned dataset is now properly formatted and ready to be used for further analysis and processing."
   ]
  },
  {
   "cell_type": "markdown",
   "id": "b06adad4-6da1-435a-aa43-8aab12457c79",
   "metadata": {},
   "source": [
    "## 2. Question:\n",
    "Use numpy.genfromtxt or numpy.loadtxt to read the above BTC-to-USD data as a numpy vector named rates"
   ]
  },
  {
   "cell_type": "markdown",
   "id": "dd30e070-8eba-4504-b99b-d145d5d76e8a",
   "metadata": {},
   "source": [
    "### 2.1 Introduction\n",
    "\n",
    "In this section, we focus on preparing the **BTC-to-USD daily closing price** data for analysis. The dataset was obtained from **Yahoo Finance**, specifically from the *Historical Data* tab on the BTC-USD page. We selected the date range from **January 1, 2023, to the current date**, set the frequency to **Daily**, and downloaded the file in **CSV format**.\n",
    "\n",
    "To clean and prepare the dataset for numerical analysis, the following steps were performed using **Microsoft Excel**:\n",
    "\n",
    "1. **Removed Unnecessary Columns**  \n",
    "   All columns except for the *'Close'* prices were deleted to retain only relevant numeric data.\n",
    "\n",
    "2. **Deleted Column Headers**  \n",
    "   The header row was removed to ensure the file contained only raw numerical values.\n",
    "\n",
    "3. **Removed Non-Numeric Entries**  \n",
    "   Any non-numeric or missing values were identified and removed to maintain data integrity.\n",
    "\n",
    "4. **Saved as Clean CSV**  \n",
    "   The cleaned dataset was saved in CSV format with one closing price per line.\n",
    "\n",
    "---\n",
    "\n",
    "After preparing the dataset, we proceeded to load it into Python for further analysis. We used **NumPy's `genfromtxt`** function to read the CSV file and store the extracted values in a variable named `rates`. This method allows for efficient loading of numerical data into a NumPy array, which is essential for performing mathematical and statistical operations.\n",
    "\n",
    "The `genfromtxt` function is particularly useful because it can handle missing values and irregularities while reading text-based data. It automatically parses the input and converts it into a structured NumPy array, enabling a smooth transition from raw data to a format suitable for analysis. By utilizing `genfromtxt`, we ensure that our BTC-to-USD closing price data is ready for further computation and exploration."
   ]
  },
  {
   "cell_type": "markdown",
   "id": "75add6cf-a40f-4263-8d78-527e3a46aac7",
   "metadata": {},
   "source": [
    "### 2.2 Code"
   ]
  },
  {
   "cell_type": "code",
   "execution_count": 20,
   "id": "b786cef8-c6fa-4a94-a68e-4578755aabd8",
   "metadata": {},
   "outputs": [
    {
     "name": "stdout",
     "output_type": "stream",
     "text": [
      "An error occurred while loading the data: data.txt not found.\n"
     ]
    }
   ],
   "source": [
    "import numpy as np\n",
    "\n",
    "# Load BTC-to-USD daily closing prices from a cleaned CSV file\n",
    "try:\n",
    "    rates = np.genfromtxt(\"data.txt\", delimiter=\",\")\n",
    "    print(\"First 5 BTC closing prices:\")\n",
    "    print(rates[:5])\n",
    "except Exception as e:\n",
    "    print(\"An error occurred while loading the data:\", e)"
   ]
  },
  {
   "cell_type": "code",
   "execution_count": null,
   "id": "eea974eb-6830-40c0-a28b-6d1eea7d48b1",
   "metadata": {},
   "outputs": [],
   "source": []
  },
  {
   "cell_type": "code",
   "execution_count": null,
   "id": "f0ee20c0-9b06-4fb2-95a5-ebec67d36829",
   "metadata": {},
   "outputs": [],
   "source": []
  },
  {
   "cell_type": "code",
   "execution_count": null,
   "id": "16ab2b10-1e97-48c3-97d7-82abb928afa9",
   "metadata": {},
   "outputs": [],
   "source": []
  }
 ],
 "metadata": {
  "kernelspec": {
   "display_name": "Python 3 (ipykernel)",
   "language": "python",
   "name": "python3"
  },
  "language_info": {
   "codemirror_mode": {
    "name": "ipython",
    "version": 3
   },
   "file_extension": ".py",
   "mimetype": "text/x-python",
   "name": "python",
   "nbconvert_exporter": "python",
   "pygments_lexer": "ipython3",
   "version": "3.12.7"
  }
 },
 "nbformat": 4,
 "nbformat_minor": 5
}
