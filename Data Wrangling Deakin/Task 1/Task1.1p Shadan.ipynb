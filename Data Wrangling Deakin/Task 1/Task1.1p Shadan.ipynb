{
 "cells": [
  {
   "cell_type": "markdown",
   "id": "1e854f65-cb0f-4df7-b073-b86f8af03084",
   "metadata": {},
   "source": [
    "## SIT 731, TASK 1.1"
   ]
  },
  {
   "cell_type": "markdown",
   "id": "b90f7ef3-b70c-4f16-bf9a-aefd161197b5",
   "metadata": {},
   "source": [
    "### Importing the libraries that may be later used. "
   ]
  },
  {
   "cell_type": "code",
   "execution_count": 188,
   "id": "a842112c-7e40-4451-9431-d8e862d1fa0b",
   "metadata": {},
   "outputs": [],
   "source": [
    "import matplotlib.pyplot as plt"
   ]
  },
  {
   "cell_type": "markdown",
   "id": "1d3c6671-214d-4576-983c-e0a09f503e59",
   "metadata": {},
   "source": [
    "### QUESTION 1"
   ]
  },
  {
   "cell_type": "markdown",
   "id": "8e6139da-8399-43ba-8d4a-06e87bad2d9e",
   "metadata": {},
   "source": [
    "### 1.1,Introduction:,\n",
    "Generating three identical-length lists containing names, heights, and weights.\n"
   ]
  },
  {
   "cell_type": "markdown",
   "id": "2382c14f-70e9-486e-9f31-f02425977603",
   "metadata": {},
   "source": [
    "### 1.2,CODE"
   ]
  },
  {
   "cell_type": "code",
   "execution_count": 193,
   "id": "9b879e84-161d-4979-98c3-d81a2c8eb962",
   "metadata": {},
   "outputs": [],
   "source": [
    "names = [\"Aryan\", \"Ashar\", \"Sid\", \"Jeet\", \"Omar\"]\n",
    "heights = [175, 162, 180, 155, 160]  # in centimetres\n",
    "weights = [70, 58, 75, 85, 60]  # in kilograms"
   ]
  },
  {
   "cell_type": "markdown",
   "id": "40a12109-6d70-4f7a-b1ed-6bc13816049c",
   "metadata": {},
   "source": [
    "### 1.3 Explanation,\n",
    "Here we have defined three lists of the same length to meet the requirements which have been provided."
   ]
  },
  {
   "cell_type": "markdown",
   "id": "8364079b-f8b4-4355-a81a-1e1bfe3ce8ea",
   "metadata": {},
   "source": [
    "### Ques 2,Using a for loop, write a Python program to create a list called bmis, where each element bmis[i] stores the Body Mass Index (BMI) of the i-th person in a dataset."
   ]
  },
  {
   "cell_type": "markdown",
   "id": "f0f8ef52-ca78-4982-948e-b366eb1ecf14",
   "metadata": {},
   "source": [
    "### 2.1 Introduction ,\n",
    "In this section, we will create three lists of the same length: one for names, one for heights, and one for weights. These lists will form the basis for performing calculations and analyses in the upcoming sections."
   ]
  },
  {
   "cell_type": "code",
   "execution_count": 198,
   "id": "ab30bb5f-13b2-410a-bd6e-064dface2377",
   "metadata": {},
   "outputs": [
    {
     "name": "stdout",
     "output_type": "stream",
     "text": [
      "BMI Results:\n",
      "Aryan: BMI = 22.86\n",
      "Ashar: BMI = 22.1\n",
      "Sid: BMI = 23.15\n",
      "Jeet: BMI = 35.38\n",
      "Omar: BMI = 23.44\n"
     ]
    }
   ],
   "source": [
    "# Function to calculate BMI\n",
    "def calculate_bmi(weight: float, height_cm: float) -> float:\n",
    "    \"\"\"Calculate BMI given weight in kg and height in cm.\"\"\"\n",
    "    return round(weight / ((height_cm / 100) ** 2), 2)\n",
    "\n",
    "# Function to compute BMIs and return a dictionary\n",
    "def compute_bmis(names, heights, weights):\n",
    "    \"\"\"Compute BMI for each person and return a dictionary with names and their BMI.\"\"\"\n",
    "    return {\n",
    "        name: calculate_bmi(weights[i], heights[i])\n",
    "        for i, name in enumerate(names)\n",
    "    }\n",
    "\n",
    "# Compute and print BMI results\n",
    "bmi_results = compute_bmis(names, heights, weights)\n",
    "\n",
    "print(\"BMI Results:\")\n",
    "for name, bmi in bmi_results.items():\n",
    "    print(f\"{name}: BMI = {bmi}\")"
   ]
  },
  {
   "cell_type": "markdown",
   "id": "f1127214-ca47-45d0-b650-6a6545342946",
   "metadata": {},
   "source": [
    "### 2.3 EXPLANATION, \n",
    "The code calculates the Body Mass Index (BMI) for each individual using the formula:BMI = weight (kg) / (height (m)²).Instead of using a separate height conversion function, the code directly converts height from centimeters to meters inside the calculate_bmi function. This function takes a person’s weight and height, computes their BMI, and returns the result rounded to two decimal places.To process all individuals, the compute_bmis function is defined. It uses a dictionary comprehension to iterate through the lists of names, heights, and weights using enumerate(). For each person, it calculates the BMI and maps their name to the calculated value in the resulting dictionary.Finally, the BMI results are printed in a clear and readable format, showing each person’s name alongside their corresponding BMI. This approach ensures the data is both accessible and easy to interpret."
   ]
  },
  {
   "cell_type": "markdown",
   "id": "213d2d73-0d1c-4ad1-93ba-9f5184ac6afa",
   "metadata": {},
   "source": [
    "### Question 3: Based on the BMI categories as defined by the WHO (underweight if below 18.5, normal rangebelow 25.0, overweight below 30.0, obese otherwise), use a for loop to print a series of strings like \"{name} has BMI of {bmi} which is {bmi_category}.\":"
   ]
  },
  {
   "cell_type": "markdown",
   "id": "70bb9561-bb67-41f4-a7a9-3aad336c8e5a",
   "metadata": {},
   "source": [
    "###3.1 Introduction, \n",
    "In this section, we calculated the Body Mass Index (BMI) for each individual using their height and weight, and then classified their BMI according to the World Health Organization (WHO) standards. A function was defined to compute BMI using the formula: weight in kilograms divided by the square of height in meters. Once the BMI was calculated for each person, another function was used to categorize their BMI into one of the four WHO categories: Underweight, Normal weight, Overweight, or Obese. We then combined the BMI value and its corresponding classification into a summary dictionary and printed the results in a clear and readable format. This approach not only helps in assessing each individual’s health status but also demonstrates how functions and data structures can be effectively used to perform real-world health data analysis in Python."
   ]
  },
  {
   "cell_type": "markdown",
   "id": "5c97d684-0445-490c-89a8-c5b17041a286",
   "metadata": {},
   "source": [
    "###3.2 CODE,"
   ]
  },
  {
   "cell_type": "code",
   "execution_count": 204,
   "id": "04380fca-cb4e-40ea-b0e7-ae3e376475e9",
   "metadata": {},
   "outputs": [
    {
     "name": "stdout",
     "output_type": "stream",
     "text": [
      "BMI Classification Summary:\n",
      "\n",
      "Aryan has a BMI of 22.86, which is classified as normal.\n",
      "Ashar has a BMI of 22.10, which is classified as normal.\n",
      "Sid has a BMI of 23.15, which is classified as normal.\n",
      "Jeet has a BMI of 35.38, which is classified as obese.\n",
      "Omar has a BMI of 23.44, which is classified as normal.\n"
     ]
    }
   ],
   "source": [
    "# Step 1: BMI Calculation Function\n",
    "def calculate_bmi(weight: float, height: float) -> float:\n",
    "    \"\"\"Calculate BMI given weight in kg and height in cm.\"\"\"\n",
    "    return round(weight / ((height / 100) ** 2), 2)\n",
    "\n",
    "# Step 2: BMI Classification Function\n",
    "def classify_bmi(bmi: float) -> str:\n",
    "    \"\"\"Classify BMI according to WHO standards.\"\"\"\n",
    "    if bmi < 18.5:\n",
    "        return \"underweight\"\n",
    "    elif bmi < 25.0:\n",
    "        return \"normal\"\n",
    "    elif bmi < 30.0:\n",
    "        return \"overweight\"\n",
    "    else:\n",
    "        return \"obese\"\n",
    "\n",
    "# Step 3: Combine and Compute Results\n",
    "def compute_bmis(names, heights, weights):\n",
    "    \"\"\"\n",
    "    Compute BMI and classification for each individual.\n",
    "    Returns a dictionary: name -> (BMI, category)\n",
    "    \"\"\"\n",
    "    return {\n",
    "        name: (\n",
    "            bmi := calculate_bmi(weights[i], heights[i]),\n",
    "            classify_bmi(bmi)\n",
    "        )\n",
    "        for i, name in enumerate(names)\n",
    "    }\n",
    "\n",
    "# Step 4: Compute and Display\n",
    "bmi_results = compute_bmis(names, heights, weights)\n",
    "\n",
    "print(\"BMI Classification Summary:\\n\")\n",
    "for name, (bmi, category) in bmi_results.items():\n",
    "    print(f\"{name} has a BMI of {bmi:.2f}, which is classified as {category}.\")"
   ]
  },
  {
   "cell_type": "code",
   "execution_count": 206,
   "id": "55eed3d0-28d5-4196-8ab9-b5325240bd62",
   "metadata": {},
   "outputs": [
    {
     "ename": "SyntaxError",
     "evalue": "invalid character '’' (U+2019) (4261135434.py, line 2)",
     "output_type": "error",
     "traceback": [
      "\u001b[0;36m  Cell \u001b[0;32mIn[206], line 2\u001b[0;36m\u001b[0m\n\u001b[0;31m    The classify_bmi function is designed to categorize an individual’s Body Mass Index (BMI) according to the classification standards set by the World Health Organization (WHO). It takes a single parameter, bmi, which represents the calculated BMI value of a person. Based on this value, the function determines the corresponding health category. If the BMI is less than 18.5, the individual is classified as “underweight”. A BMI between 18.5 and 24.9 falls under the “normal” category, while a value between 25.0 and 29.9 is considered “overweight”. Any BMI of 30.0 or higher is classified as “obese”. The function does not display the result directly; instead, it returns the category as a string, allowing the result to be stored, printed, or used elsewhere in the program as needed. For example, based on the current dataset, Aryan has a BMI of 22.86, Ashar 22.10, Sid 23.15, Jeet 20.81, and Omar 23.53 — all of which are classified as “normal”, indicating that these individuals maintain a healthy BMI range according to WHO standards.\u001b[0m\n\u001b[0m                                                                     ^\u001b[0m\n\u001b[0;31mSyntaxError\u001b[0m\u001b[0;31m:\u001b[0m invalid character '’' (U+2019)\n"
     ]
    }
   ],
   "source": [
    "###3.3 Explanation,\n",
    "The classify_bmi function is designed to categorize an individual’s Body Mass Index (BMI) according to the classification standards set by the World Health Organization (WHO). It takes a single parameter, bmi, which represents the calculated BMI value of a person. Based on this value, the function determines the corresponding health category. If the BMI is less than 18.5, the individual is classified as “underweight”. A BMI between 18.5 and 24.9 falls under the “normal” category, while a value between 25.0 and 29.9 is considered “overweight”. Any BMI of 30.0 or higher is classified as “obese”. The function does not display the result directly; instead, it returns the category as a string, allowing the result to be stored, printed, or used elsewhere in the program as needed. For example, based on the current dataset, Aryan has a BMI of 22.86, Ashar 22.10, Sid 23.15, Jeet 20.81, and Omar 23.53 — all of which are classified as “normal”, indicating that these individuals maintain a healthy BMI range according to WHO standards."
   ]
  },
  {
   "cell_type": "markdown",
   "id": "3bd5504f-d2e9-4d0a-a132-07d7e5a40b45",
   "metadata": {},
   "source": [
    "### Question 4:Draw a bar plot like below, where the bar colours depend on the BMI categories\n"
   ]
  },
  {
   "cell_type": "markdown",
   "id": "d059c8be-5845-47f2-a6a1-67da082bf09f",
   "metadata": {},
   "source": [
    "###4.1 Introduction, \n",
    "In this section, we will create a bar plot to visually represent the BMI of each individual. The bars will be color-coded according to the BMI categories defined by the World Health Organization (WHO), allowing for a clear and immediate understanding of each person’s health status. By using color to distinguish between underweight, normal, overweight, and obese categories, the chart will provide an intuitive way to interpret and compare BMI values across individuals at a glance."
   ]
  },
  {
   "cell_type": "code",
   "execution_count": 210,
   "id": "42819826-e98c-47b5-b60b-601b1095cf2b",
   "metadata": {},
   "outputs": [
    {
     "data": {
      "image/png": "[encoded data removed]",
      "text/plain": [
       "<Figure size 640x480 with 1 Axes>"
      ]
     },
     "metadata": {},
     "output_type": "display_data"
    }
   ],
   "source": [
    "# Compute BMI and assign colors using elif\n",
    "bmis = []\n",
    "colors = []\n",
    "\n",
    "for h, w in zip(heights, weights):\n",
    "    bmi = round(w / ((h / 100) ** 2), 2)\n",
    "    bmis.append(bmi)\n",
    "    \n",
    "    if bmi < 18.5:\n",
    "        colors.append(\"red\")      # Underweight\n",
    "    elif bmi < 25.0:\n",
    "        colors.append(\"green\")      # Normal weight\n",
    "    elif bmi < 30.0:\n",
    "        colors.append(\"orange\")     # Overweight\n",
    "    else:\n",
    "        colors.append(\"purple\")          # Obese\n",
    "\n",
    "# Plot\n",
    "plt.bar(names, bmis, color=colors, edgecolor=\"black\")\n",
    "plt.xlabel(\"Names\")\n",
    "plt.ylabel(\"BMI\")\n",
    "plt.title(\"BMI Categories\")\n",
    "plt.ylim(15, 35)\n",
    "plt.show()"
   ]
  },
  {
   "cell_type": "markdown",
   "id": "5d76651e-c650-4e59-a411-98a6dafcd2da",
   "metadata": {},
   "source": [
    "###Explanation:\n",
    "The provided code calculates and visualizes the Body Mass Index (BMI) of individuals using the matplotlib.pyplot library. It begins by computing BMI for each person using the standard formula: weight in kilograms divided by the square of height in meters. Heights are first converted from centimeters to meters, and the resulting BMI values are rounded to two decimal places and stored in a list called bmis. Each BMI is then categorized based on World Health Organization (WHO) standards using if-elif conditions: individuals with a BMI less than 18.5 are considered underweight and assigned the color red, those with a BMI between 18.5 and 24.9 are classified as normal and assigned green, those between 25.0 and 29.9 are categorized as overweight and colored orange, and those with a BMI of 30.0 or more are considered obese and given the color purple. These colors are stored in a separate colors list. The code then uses plt.bar() to create a bar chart with names on the x-axis and BMI values on the y-axis, applying the color coding to each bar. Additional plot customization includes labeled axes, a title, and setting the y-axis range between 15 and 35 for better visual clarity. Finally, plt.show() displays the chart, providing a clear and intuitive visual summary of each individual’s BMI and health classification."
   ]
  },
  {
   "cell_type": "markdown",
   "id": "ee2a03f7-779d-4791-9b31-bc10b22228b3",
   "metadata": {},
   "source": [
    "### Question 5: The Wikipedia article on BMI correctly identifies this index as a very simple measure. In your own words, discuss what are the benefits and limitations of BMI from both the medical and societal perspective, including its possible misuses (write at least three text paragraphs)."
   ]
  },
  {
   "cell_type": "markdown",
   "id": "d2976630-72bc-4f84-b8f9-e469331e1999",
   "metadata": {},
   "source": [
    "###The Body Mass Index (BMI): \n",
    "A Useful but Limited Health IndicatorThe Body Mass Index (BMI) is a commonly used tool to evaluate whether an individual’s weight is appropriate for their height. Its primary advantage lies in its simplicity—it requires only height and weight to calculate, making it a cost-effective and convenient method for large-scale health assessments. Medical professionals and public health researchers often rely on BMI to identify population-level trends and potential risks for conditions such as heart disease, diabetes, and hypertension. As a general indicator of body fat, BMI provides a helpful starting point for assessing overall health.However, despite its usefulness, BMI has notable limitations, especially when applied at an individual level. It does not account for differences in muscle mass, bone density, or fat distribution, which can lead to inaccurate classifications. For example, athletes or muscular individuals may fall into the overweight or obese category despite having low body fat and excellent physical health. Additionally, BMI cannot distinguish between visceral fat—linked to higher health risks—and subcutaneous fat, limiting its precision in predicting health outcomes.Another important shortcoming is that BMI does not factor in age, sex, or ethnicity, all of which significantly influence body composition and fat distribution. As a result, its accuracy varies across populations, potentially leading to misleading or incomplete health assessments for certain groups.On a societal level, BMI can sometimes be misused, contributing to stigma and discrimination based on body size. Institutions such as insurance companies, employers, or even healthcare providers may rely too heavily on BMI, ignoring other critical health indicators. This can result in unfair treatment, biased medical advice, and reinforcement of unrealistic body standards. Furthermore, the oversimplification of health through BMI may fuel unhealthy diet culture, where individuals become overly focused on weight rather than overall well-being.Therefore, while BMI can serve as a helpful screening tool, it should not be viewed as a definitive measure of health. A more comprehensive approach involves supplementing BMI with additional metrics such as body fat percentage, waist-to-hip ratio, and metabolic indicators like blood pressure, cholesterol, and insulin levels. By considering these factors, healthcare professionals can offer a more accurate, personalized, and equitable assessment of an individual’s health status."
   ]
  },
  {
   "cell_type": "markdown",
   "id": "44af46a1-0fca-474c-90d2-072d1ef0071a",
   "metadata": {},
   "source": [
    "#  Additional Tasks for Postgraduate (SIT731) Students (*)"
   ]
  },
  {
   "cell_type": "markdown",
   "id": "5213df60-41ee-4ae5-b248-e00d0b0ae479",
   "metadata": {},
   "source": [
    "#### Question 1. For each person, calculate also the New BMI (exponent of 2.5) measure as defined in https://en.wikipedia.org/wiki/Body_mass_index."
   ]
  },
  {
   "cell_type": "markdown",
   "id": "8522a9e8-c75c-420e-a535-25269f781838",
   "metadata": {},
   "source": [
    "###1.1 Introduction:In this section, we will create three separate lists: names, heights, and weights. These lists will contain the names of five individuals, along with their corresponding heights (measured in centimeters) and weights (measured in kilograms). This data will form the basis for the following sections, where we will compute and examine the Body Mass Index (BMI) for each person."
   ]
  },
  {
   "cell_type": "markdown",
   "id": "86cda690-483b-4a92-a341-bd92e6cccabe",
   "metadata": {},
   "source": [
    "#### 1.2 Code"
   ]
  },
  {
   "cell_type": "code",
   "execution_count": 219,
   "id": "680ab2fa-b62d-4d9c-be6a-9d5daeee3283",
   "metadata": {},
   "outputs": [
    {
     "name": "stdout",
     "output_type": "stream",
     "text": [
      "Aryan has a BMI of 22.86, classified as normal. The new BMI index is 17.28.\n",
      "Ashar has a BMI of 22.10, classified as normal. The new BMI index is 17.36.\n",
      "Sid has a BMI of 23.15, classified as normal. The new BMI index is 17.25.\n",
      "Jeet has a BMI of 35.38, classified as obese. The new BMI index is 28.42.\n",
      "Omar has a BMI of 23.44, classified as normal. The new BMI index is 18.53.\n"
     ]
    }
   ],
   "source": [
    "# Helper Functions\n",
    "def height_in_meters(height_cm):\n",
    "    \"\"\"Converts height from centimeters to meters.\"\"\"\n",
    "    return height_cm / 100\n",
    "\n",
    "def calculate_bmi(weight, height_cm):\n",
    "    \"\"\"Calculates the standard BMI using weight (kg) and height (cm).\"\"\"\n",
    "    height_m = height_in_meters(height_cm)\n",
    "    return round(weight / (height_m ** 2), 2)\n",
    "\n",
    "def calculate_new_bmi(weight, height_cm):\n",
    "    \"\"\"Calculates the New BMI using an exponent of 2.5.\"\"\"\n",
    "    height_m = height_in_meters(height_cm)\n",
    "    return round(weight / (height_m ** 2.5), 2)\n",
    "\n",
    "def classify_bmi(bmi):\n",
    "    \"\"\"Classifies BMI based on WHO standards.\"\"\"\n",
    "    if bmi < 18.5:\n",
    "        return \"underweight\"\n",
    "    elif bmi < 25.0:\n",
    "        return \"normal\"\n",
    "    elif bmi < 30.0:\n",
    "        return \"overweight\"\n",
    "    else:\n",
    "        return \"obese\"\n",
    "\n",
    "# Compute and display BMI results\n",
    "for name, weight, height in zip(names, weights, heights):\n",
    "    bmi = calculate_bmi(weight, height)\n",
    "    new_bmi = calculate_new_bmi(weight, height)\n",
    "    category = classify_bmi(bmi)\n",
    "\n",
    "    print(f\"{name} has a BMI of {bmi:.2f}, classified as {category}. The new BMI index is {new_bmi:.2f}.\")"
   ]
  },
  {
   "cell_type": "markdown",
   "id": "ee75f7ae-1d7e-467e-a55f-f4773b07a850",
   "metadata": {},
   "source": [
    "## Question 3.In your own words, discuss the possible advantages and limitations of this measure."
   ]
  },
  {
   "cell_type": "markdown",
   "id": "13cf46b4-fa7a-43f1-982c-2a6246293c16",
   "metadata": {},
   "source": [
    "The New BMI: A Refined but Imperfect Measure of Body Mass\n",
    "\n",
    "The New BMI, calculated using the formula weight divided by height raised to the power of 2.5 (weight / height²·⁵), is proposed as an improvement over the traditional BMI. Its primary advantage lies in addressing the height related bias inherent in the standard formula, which tends to overestimate body fat in taller individuals and underestimate it in shorter ones. By adjusting the exponent from 2 to 2.5, the New BMI offers a more proportionally accurate assessment of body mass, improving the reliability of health evaluations and reducing misclassification across individuals of varying heights.\n",
    "\n",
    "However, despite this refinement, the New BMI still carries many of the same limitations as the original version. It does not differentiate between muscle and fat, which means that muscular individuals—such as athletes—may still be categorized as overweight or obese, despite having low body fat and excellent physical health. Additionally, it does not take fat distribution into account, failing to distinguish between subcutaneous fat and visceral fat, the latter of which is more strongly associated with serious health risks. Consequently, BMI values alone may not accurately reflect an individual’s actual health status.\n",
    "\n",
    "Furthermore, the New BMI does not consider other essential factors such as age, sex, or ethnicity, all of which significantly influence body composition. This lack of personalization reduces the model’s accuracy when applied across diverse populations and limits its effectiveness as a stand alone health metric. While the New BMI presents a step forward in body mass assessment, it remains a generalized mathematical model and should not be relied upon in isolation.\n",
    "\n",
    "For the New BMI to be widely adopted in clinical or public health settings, further research and validation are required, along with education to ensure proper use and interpretation. Ultimately, the most accurate approach to evaluating health involves using BMI whether traditional or new—in combination with other health indicators. These include body fat percentage to distinguish between fat and lean mass, waist-to-hip ratio to assess fat distribution, and metabolic markers such as blood pressure, cholesterol, and blood sugar levels. By considering multiple factors together, healthcare professionals can achieve a more comprehensive and individualized understanding of a person’s overall health and well being."
   ]
  },
  {
   "cell_type": "markdown",
   "id": "bbbbf322-2491-4966-bf1c-f8582b03fbbc",
   "metadata": {},
   "source": []
  },
  {
   "cell_type": "code",
   "execution_count": null,
   "id": "9c4f9985-c5b4-4bdc-a17a-59e0f852d21f",
   "metadata": {},
   "outputs": [],
   "source": []
  },
  {
   "cell_type": "code",
   "execution_count": null,
   "id": "756b89b5-1b20-4713-b24e-9a14d95e1cbb",
   "metadata": {},
   "outputs": [],
   "source": []
  },
  {
   "cell_type": "code",
   "execution_count": null,
   "id": "5a3c6349-2890-436a-ab24-1834fb614c6f",
   "metadata": {},
   "outputs": [],
   "source": []
  },
  {
   "cell_type": "code",
   "execution_count": null,
   "id": "c2a039bf-3a65-4d48-ba42-a12cab0e5ed6",
   "metadata": {},
   "outputs": [],
   "source": []
  },
  {
   "cell_type": "code",
   "execution_count": null,
   "id": "71e0405e-104f-4143-af5f-8c3d8b66d1bb",
   "metadata": {},
   "outputs": [],
   "source": []
  }
 ],
 "metadata": {
  "kernelspec": {
   "display_name": "Python 3 (ipykernel)",
   "language": "python",
   "name": "python3"
  },
  "language_info": {
   "codemirror_mode": {
    "name": "ipython",
    "version": 3
   },
   "file_extension": ".py",
   "mimetype": "text/x-python",
   "name": "python",
   "nbconvert_exporter": "python",
   "pygments_lexer": "ipython3",
   "version": "3.12.7"
  }
 },
 "nbformat": 4,
 "nbformat_minor": 5
}
